{
 "cells": [
  {
   "cell_type": "markdown",
   "id": "1041ae6f",
   "metadata": {},
   "source": [
    "![iceberg-logo](https://www.apache.org/logos/res/iceberg/iceberg.png)"
   ]
  },
  {
   "cell_type": "markdown",
   "id": "247fb2ab",
   "metadata": {},
   "source": [
    "### [Docker, Spark, and Iceberg: The Fastest Way to Try Iceberg!](https://tabular.io/blog/docker-spark-and-iceberg/)"
   ]
  },
  {
   "cell_type": "code",
   "execution_count": 30,
   "id": "6a5c8206",
   "metadata": {},
   "outputs": [
    {
     "data": {
      "text/plain": [
       "'0.7.1'"
      ]
     },
     "execution_count": 30,
     "metadata": {},
     "output_type": "execute_result"
    }
   ],
   "source": [
    "from pyiceberg import __version__\n",
    "\n",
    "__version__"
   ]
  },
  {
   "cell_type": "markdown",
   "id": "6f9a9f41",
   "metadata": {},
   "source": [
    "# Write support\n",
    "\n",
    "This notebook demonstrates writing to Iceberg tables using PyIceberg. First, connect to the [catalog](https://iceberg.apache.org/concepts/catalog/#iceberg-catalogs), the place where tables are being tracked."
   ]
  },
  {
   "cell_type": "code",
   "execution_count": 31,
   "id": "47645b52",
   "metadata": {},
   "outputs": [],
   "source": [
    "from pyiceberg.catalog import load_catalog\n",
    "\n",
    "catalog = load_catalog('default')"
   ]
  },
  {
   "cell_type": "markdown",
   "id": "bf1d58ad-5cc1-4e8c-9d7b-a54e67def783",
   "metadata": {},
   "source": [
    "# Create an Iceberg table\n",
    "\n",
    "Next create the Iceberg table directly from the `pyarrow.Table`."
   ]
  },
  {
   "cell_type": "code",
   "execution_count": 45,
   "id": "47e5a21d-de87-4aaf-aa06-dc5048acba58",
   "metadata": {},
   "outputs": [
    {
     "data": {
      "text/plain": [
       "commits(\n",
       "  1: id: required long,\n",
       "  2: name: required string,\n",
       "  3: state: required string,\n",
       "  4: additions: required long,\n",
       "  5: deletes: required long\n",
       "),\n",
       "partition by: [],\n",
       "sort order: [],\n",
       "snapshot: null"
      ]
     },
     "execution_count": 45,
     "metadata": {},
     "output_type": "execute_result"
    }
   ],
   "source": [
    "table_name = \"default.commits\"\n",
    "\n",
    "try:\n",
    "    # In case the table already exists\n",
    "    catalog.drop_table(table_name)\n",
    "except:\n",
    "    pass\n",
    "\n",
    "from pyiceberg.schema import Schema, NestedField, StringType, LongType\n",
    "\n",
    "schema = Schema(\n",
    "    NestedField(1, \"id\", LongType(), True),\n",
    "    NestedField(2, \"name\", StringType(), True),\n",
    "    NestedField(3, \"state\", StringType(), True),\n",
    "    NestedField(4, \"additions\", LongType(), True),\n",
    "    NestedField(5, \"deletes\", LongType(), True),\n",
    "    identifier_field_ids=[1]\n",
    ")\n",
    "\n",
    "table = catalog.create_table(table_name, schema=schema)\n",
    "\n",
    "table"
   ]
  },
  {
   "cell_type": "markdown",
   "id": "c531bd4b-9943-4516-9a6a-99fab016ed2b",
   "metadata": {},
   "source": [
    "# Loading data using Arrow\n",
    "\n",
    "Create an example PyArrow table that mimics data from the GitHub API."
   ]
  },
  {
   "cell_type": "code",
   "execution_count": 46,
   "id": "9fddb808",
   "metadata": {},
   "outputs": [
    {
     "data": {
      "text/plain": [
       "pyarrow.Table\n",
       "id: int64 not null\n",
       "name: large_string not null\n",
       "state: large_string not null\n",
       "additions: int64 not null\n",
       "deletes: int64 not null\n",
       "----\n",
       "id: [[123,234,345]]\n",
       "name: [[\"Fix bug\",\"Add VariantType\",\"Add commit retries\"]]\n",
       "state: [[\"Open\",\"Open\",\"Open\"]]\n",
       "additions: [[22,29123,22]]\n",
       "deletes: [[10,302,10]]"
      ]
     },
     "execution_count": 46,
     "metadata": {},
     "output_type": "execute_result"
    }
   ],
   "source": [
    "import pyarrow as pa\n",
    "\n",
    "from pyiceberg.io.pyarrow import schema_to_pyarrow\n",
    "\n",
    "pa_schema = schema_to_pyarrow(schema)\n",
    "\n",
    "df = pa.Table.from_pylist(\n",
    "    [\n",
    "        {\"id\": 123, \"name\": \"Fix bug\", \"state\": \"Open\", \"additions\": 22, \"deletes\": 10},\n",
    "        {\"id\": 234, \"name\": \"Add VariantType\", \"state\": \"Open\", \"additions\": 29123, \"deletes\": 302},\n",
    "        {\"id\": 345, \"name\": \"Add commit retries\", \"state\": \"Open\", \"additions\": 22, \"deletes\": 10},\n",
    "    ],\n",
    "    schema=pa_schema\n",
    ")\n",
    "\n",
    "df"
   ]
  },
  {
   "cell_type": "markdown",
   "id": "d612c035-4cf6-47a0-844b-165dfb463bbc",
   "metadata": {},
   "source": [
    "# Write the data\n",
    "\n",
    "Let's append the data to the table:"
   ]
  },
  {
   "cell_type": "code",
   "execution_count": 47,
   "id": "efee8252",
   "metadata": {
    "pycharm": {
     "name": "#%%\n"
    }
   },
   "outputs": [
    {
     "data": {
      "text/html": [
       "<div>\n",
       "<style scoped>\n",
       "    .dataframe tbody tr th:only-of-type {\n",
       "        vertical-align: middle;\n",
       "    }\n",
       "\n",
       "    .dataframe tbody tr th {\n",
       "        vertical-align: top;\n",
       "    }\n",
       "\n",
       "    .dataframe thead th {\n",
       "        text-align: right;\n",
       "    }\n",
       "</style>\n",
       "<table border=\"1\" class=\"dataframe\">\n",
       "  <thead>\n",
       "    <tr style=\"text-align: right;\">\n",
       "      <th></th>\n",
       "      <th>id</th>\n",
       "      <th>name</th>\n",
       "      <th>state</th>\n",
       "      <th>additions</th>\n",
       "      <th>deletes</th>\n",
       "    </tr>\n",
       "  </thead>\n",
       "  <tbody>\n",
       "    <tr>\n",
       "      <th>0</th>\n",
       "      <td>123</td>\n",
       "      <td>Fix bug</td>\n",
       "      <td>Open</td>\n",
       "      <td>22</td>\n",
       "      <td>10</td>\n",
       "    </tr>\n",
       "    <tr>\n",
       "      <th>1</th>\n",
       "      <td>234</td>\n",
       "      <td>Add VariantType</td>\n",
       "      <td>Open</td>\n",
       "      <td>29123</td>\n",
       "      <td>302</td>\n",
       "    </tr>\n",
       "    <tr>\n",
       "      <th>2</th>\n",
       "      <td>345</td>\n",
       "      <td>Add commit retries</td>\n",
       "      <td>Open</td>\n",
       "      <td>22</td>\n",
       "      <td>10</td>\n",
       "    </tr>\n",
       "  </tbody>\n",
       "</table>\n",
       "</div>"
      ],
      "text/plain": [
       "    id                name state  additions  deletes\n",
       "0  123             Fix bug  Open         22       10\n",
       "1  234     Add VariantType  Open      29123      302\n",
       "2  345  Add commit retries  Open         22       10"
      ]
     },
     "execution_count": 47,
     "metadata": {},
     "output_type": "execute_result"
    }
   ],
   "source": [
    "table.append(df)\n",
    "\n",
    "assert len(table.scan().to_arrow()) == len(df)\n",
    "\n",
    "table.scan().to_pandas()"
   ]
  },
  {
   "cell_type": "code",
   "execution_count": 35,
   "id": "9ce1cecc-8cb0-4622-b0eb-55880d091556",
   "metadata": {},
   "outputs": [
    {
     "data": {
      "text/html": [
       "<div>\n",
       "<style scoped>\n",
       "    .dataframe tbody tr th:only-of-type {\n",
       "        vertical-align: middle;\n",
       "    }\n",
       "\n",
       "    .dataframe tbody tr th {\n",
       "        vertical-align: top;\n",
       "    }\n",
       "\n",
       "    .dataframe thead th {\n",
       "        text-align: right;\n",
       "    }\n",
       "</style>\n",
       "<table border=\"1\" class=\"dataframe\">\n",
       "  <thead>\n",
       "    <tr style=\"text-align: right;\">\n",
       "      <th></th>\n",
       "      <th>committed_at</th>\n",
       "      <th>snapshot_id</th>\n",
       "      <th>parent_id</th>\n",
       "      <th>operation</th>\n",
       "      <th>manifest_list</th>\n",
       "      <th>summary</th>\n",
       "    </tr>\n",
       "  </thead>\n",
       "  <tbody>\n",
       "    <tr>\n",
       "      <th>0</th>\n",
       "      <td>2025-04-07 13:43:24.679</td>\n",
       "      <td>2018389781075547497</td>\n",
       "      <td>NaN</td>\n",
       "      <td>append</td>\n",
       "      <td>s3://warehouse/default/commits/metadata/snap-2...</td>\n",
       "      <td>[(added-files-size, 2504), (added-data-files, ...</td>\n",
       "    </tr>\n",
       "  </tbody>\n",
       "</table>\n",
       "</div>"
      ],
      "text/plain": [
       "             committed_at          snapshot_id  parent_id operation  \\\n",
       "0 2025-04-07 13:43:24.679  2018389781075547497        NaN    append   \n",
       "\n",
       "                                       manifest_list  \\\n",
       "0  s3://warehouse/default/commits/metadata/snap-2...   \n",
       "\n",
       "                                             summary  \n",
       "0  [(added-files-size, 2504), (added-data-files, ...  "
      ]
     },
     "execution_count": 35,
     "metadata": {},
     "output_type": "execute_result"
    }
   ],
   "source": [
    "table.inspect.snapshots().to_pandas()"
   ]
  },
  {
   "cell_type": "markdown",
   "id": "c029ea44-8ba6-4c08-a60d-5fffac6c3666",
   "metadata": {},
   "source": [
    "# Add moar data"
   ]
  },
  {
   "cell_type": "code",
   "execution_count": 48,
   "id": "794de3a0",
   "metadata": {},
   "outputs": [
    {
     "data": {
      "text/html": [
       "<div>\n",
       "<style scoped>\n",
       "    .dataframe tbody tr th:only-of-type {\n",
       "        vertical-align: middle;\n",
       "    }\n",
       "\n",
       "    .dataframe tbody tr th {\n",
       "        vertical-align: top;\n",
       "    }\n",
       "\n",
       "    .dataframe thead th {\n",
       "        text-align: right;\n",
       "    }\n",
       "</style>\n",
       "<table border=\"1\" class=\"dataframe\">\n",
       "  <thead>\n",
       "    <tr style=\"text-align: right;\">\n",
       "      <th></th>\n",
       "      <th>id</th>\n",
       "      <th>name</th>\n",
       "      <th>state</th>\n",
       "      <th>additions</th>\n",
       "      <th>deletes</th>\n",
       "    </tr>\n",
       "  </thead>\n",
       "  <tbody>\n",
       "    <tr>\n",
       "      <th>0</th>\n",
       "      <td>456</td>\n",
       "      <td>Add NanosecondTimestamps</td>\n",
       "      <td>Merged</td>\n",
       "      <td>2392</td>\n",
       "      <td>8</td>\n",
       "    </tr>\n",
       "    <tr>\n",
       "      <th>1</th>\n",
       "      <td>567</td>\n",
       "      <td>Add documentation around filters</td>\n",
       "      <td>Open</td>\n",
       "      <td>7543</td>\n",
       "      <td>3</td>\n",
       "    </tr>\n",
       "    <tr>\n",
       "      <th>2</th>\n",
       "      <td>123</td>\n",
       "      <td>Fix bug</td>\n",
       "      <td>Open</td>\n",
       "      <td>22</td>\n",
       "      <td>10</td>\n",
       "    </tr>\n",
       "    <tr>\n",
       "      <th>3</th>\n",
       "      <td>234</td>\n",
       "      <td>Add VariantType</td>\n",
       "      <td>Open</td>\n",
       "      <td>29123</td>\n",
       "      <td>302</td>\n",
       "    </tr>\n",
       "    <tr>\n",
       "      <th>4</th>\n",
       "      <td>345</td>\n",
       "      <td>Add commit retries</td>\n",
       "      <td>Open</td>\n",
       "      <td>22</td>\n",
       "      <td>10</td>\n",
       "    </tr>\n",
       "  </tbody>\n",
       "</table>\n",
       "</div>"
      ],
      "text/plain": [
       "    id                              name   state  additions  deletes\n",
       "0  456          Add NanosecondTimestamps  Merged       2392        8\n",
       "1  567  Add documentation around filters    Open       7543        3\n",
       "2  123                           Fix bug    Open         22       10\n",
       "3  234                   Add VariantType    Open      29123      302\n",
       "4  345                Add commit retries    Open         22       10"
      ]
     },
     "execution_count": 48,
     "metadata": {},
     "output_type": "execute_result"
    }
   ],
   "source": [
    "table.append(pa.Table.from_pylist(\n",
    "    [\n",
    "        {\"id\": 456, \"name\": \"Add NanosecondTimestamps\", \"state\": \"Merged\", \"additions\": 2392, \"deletes\": 8},\n",
    "        {\"id\": 567, \"name\": \"Add documentation around filters\", \"state\": \"Open\", \"additions\": 7543, \"deletes\": 3},\n",
    "    ],\n",
    "    schema=pa_schema\n",
    "))\n",
    "\n",
    "table.scan().to_pandas()"
   ]
  },
  {
   "cell_type": "code",
   "execution_count": 49,
   "id": "f3ac7021",
   "metadata": {},
   "outputs": [
    {
     "data": {
      "text/html": [
       "<div>\n",
       "<style scoped>\n",
       "    .dataframe tbody tr th:only-of-type {\n",
       "        vertical-align: middle;\n",
       "    }\n",
       "\n",
       "    .dataframe tbody tr th {\n",
       "        vertical-align: top;\n",
       "    }\n",
       "\n",
       "    .dataframe thead th {\n",
       "        text-align: right;\n",
       "    }\n",
       "</style>\n",
       "<table border=\"1\" class=\"dataframe\">\n",
       "  <thead>\n",
       "    <tr style=\"text-align: right;\">\n",
       "      <th></th>\n",
       "      <th>committed_at</th>\n",
       "      <th>snapshot_id</th>\n",
       "      <th>parent_id</th>\n",
       "      <th>operation</th>\n",
       "      <th>manifest_list</th>\n",
       "      <th>summary</th>\n",
       "    </tr>\n",
       "  </thead>\n",
       "  <tbody>\n",
       "    <tr>\n",
       "      <th>0</th>\n",
       "      <td>2025-04-07 14:25:20.592</td>\n",
       "      <td>4215114979050777060</td>\n",
       "      <td>NaN</td>\n",
       "      <td>append</td>\n",
       "      <td>s3://warehouse/default/commits/metadata/snap-4...</td>\n",
       "      <td>[(added-files-size, 2472), (added-data-files, ...</td>\n",
       "    </tr>\n",
       "    <tr>\n",
       "      <th>1</th>\n",
       "      <td>2025-04-07 14:25:32.876</td>\n",
       "      <td>2176183429045520610</td>\n",
       "      <td>4.215115e+18</td>\n",
       "      <td>append</td>\n",
       "      <td>s3://warehouse/default/commits/metadata/snap-2...</td>\n",
       "      <td>[(added-files-size, 2600), (added-data-files, ...</td>\n",
       "    </tr>\n",
       "  </tbody>\n",
       "</table>\n",
       "</div>"
      ],
      "text/plain": [
       "             committed_at          snapshot_id     parent_id operation  \\\n",
       "0 2025-04-07 14:25:20.592  4215114979050777060           NaN    append   \n",
       "1 2025-04-07 14:25:32.876  2176183429045520610  4.215115e+18    append   \n",
       "\n",
       "                                       manifest_list  \\\n",
       "0  s3://warehouse/default/commits/metadata/snap-4...   \n",
       "1  s3://warehouse/default/commits/metadata/snap-2...   \n",
       "\n",
       "                                             summary  \n",
       "0  [(added-files-size, 2472), (added-data-files, ...  \n",
       "1  [(added-files-size, 2600), (added-data-files, ...  "
      ]
     },
     "execution_count": 49,
     "metadata": {},
     "output_type": "execute_result"
    }
   ],
   "source": [
    "table.inspect.snapshots().to_pandas()"
   ]
  },
  {
   "cell_type": "markdown",
   "id": "d1b56466-1878-4391-b726-fca9d3b80705",
   "metadata": {},
   "source": [
    "# Upsert new data"
   ]
  },
  {
   "cell_type": "code",
   "execution_count": 58,
   "id": "5157a36e-1ab2-4a5b-bf73-1f2d462b0002",
   "metadata": {},
   "outputs": [
    {
     "ename": "AttributeError",
     "evalue": "'Table' object has no attribute 'upsert'",
     "output_type": "error",
     "traceback": [
      "\u001b[0;31m---------------------------------------------------------------------------\u001b[0m",
      "\u001b[0;31mAttributeError\u001b[0m                            Traceback (most recent call last)",
      "Cell \u001b[0;32mIn[58], line 1\u001b[0m\n\u001b[0;32m----> 1\u001b[0m \u001b[43mtable\u001b[49m\u001b[38;5;241;43m.\u001b[39;49m\u001b[43mupsert\u001b[49m(pa\u001b[38;5;241m.\u001b[39mTable\u001b[38;5;241m.\u001b[39mfrom_pylist(\n\u001b[1;32m      2\u001b[0m     [\n\u001b[1;32m      3\u001b[0m         \u001b[38;5;66;03m# Nothing changes: No-op\u001b[39;00m\n\u001b[1;32m      4\u001b[0m         {\u001b[38;5;124m\"\u001b[39m\u001b[38;5;124mid\u001b[39m\u001b[38;5;124m\"\u001b[39m: \u001b[38;5;241m456\u001b[39m, \u001b[38;5;124m\"\u001b[39m\u001b[38;5;124mname\u001b[39m\u001b[38;5;124m\"\u001b[39m: \u001b[38;5;124m\"\u001b[39m\u001b[38;5;124mAdd NanosecondTimestamps\u001b[39m\u001b[38;5;124m\"\u001b[39m, \u001b[38;5;124m\"\u001b[39m\u001b[38;5;124mstate\u001b[39m\u001b[38;5;124m\"\u001b[39m: \u001b[38;5;124m\"\u001b[39m\u001b[38;5;124mMerged\u001b[39m\u001b[38;5;124m\"\u001b[39m, \u001b[38;5;124m\"\u001b[39m\u001b[38;5;124madditions\u001b[39m\u001b[38;5;124m\"\u001b[39m: \u001b[38;5;241m2392\u001b[39m, \u001b[38;5;124m\"\u001b[39m\u001b[38;5;124mdeletes\u001b[39m\u001b[38;5;124m\"\u001b[39m: \u001b[38;5;241m8\u001b[39m},\n\u001b[1;32m      5\u001b[0m \n\u001b[1;32m      6\u001b[0m         \u001b[38;5;66;03m#\u001b[39;00m\n\u001b[1;32m      7\u001b[0m         {\u001b[38;5;124m\"\u001b[39m\u001b[38;5;124mid\u001b[39m\u001b[38;5;124m\"\u001b[39m: \u001b[38;5;241m567\u001b[39m, \u001b[38;5;124m\"\u001b[39m\u001b[38;5;124mname\u001b[39m\u001b[38;5;124m\"\u001b[39m: \u001b[38;5;124m\"\u001b[39m\u001b[38;5;124mAdd documentation around filters\u001b[39m\u001b[38;5;124m\"\u001b[39m, \u001b[38;5;124m\"\u001b[39m\u001b[38;5;124mstate\u001b[39m\u001b[38;5;124m\"\u001b[39m: \u001b[38;5;124m\"\u001b[39m\u001b[38;5;124mOpen\u001b[39m\u001b[38;5;124m\"\u001b[39m, \u001b[38;5;124m\"\u001b[39m\u001b[38;5;124madditions\u001b[39m\u001b[38;5;124m\"\u001b[39m: \u001b[38;5;241m7543\u001b[39m, \u001b[38;5;124m\"\u001b[39m\u001b[38;5;124mdeletes\u001b[39m\u001b[38;5;124m\"\u001b[39m: \u001b[38;5;241m3\u001b[39m},\n\u001b[1;32m      8\u001b[0m     ],\n\u001b[1;32m      9\u001b[0m     schema\u001b[38;5;241m=\u001b[39mpa_schema\n\u001b[1;32m     10\u001b[0m ))\n\u001b[1;32m     12\u001b[0m table\u001b[38;5;241m.\u001b[39mscan()\u001b[38;5;241m.\u001b[39mto_pandas()\n",
      "\u001b[0;31mAttributeError\u001b[0m: 'Table' object has no attribute 'upsert'"
     ]
    }
   ],
   "source": [
    "table.upsert(pa.Table.from_pylist(\n",
    "    [\n",
    "        # Nothing changes: No-op\n",
    "        {\"id\": 456, \"name\": \"Add NanosecondTimestamps\", \"state\": \"Merged\", \"additions\": 2392, \"deletes\": 8},\n",
    "\n",
    "        # Updated, nc\n",
    "        {\"id\": 567, \"name\": \"Add documentation around filters\", \"state\": \"Merged\", \"additions\": 9238, \"deletes\": 22},\n",
    "    ],\n",
    "    schema=pa_schema\n",
    "))\n",
    "\n",
    "table.scan().to_pandas()"
   ]
  },
  {
   "cell_type": "code",
   "execution_count": null,
   "id": "cf7e1edd-7335-40c1-a50b-90c50536ae6f",
   "metadata": {},
   "outputs": [],
   "source": []
  },
  {
   "cell_type": "code",
   "execution_count": null,
   "id": "a69bba68-33c9-4c43-998d-e8e91a807341",
   "metadata": {},
   "outputs": [],
   "source": []
  },
  {
   "cell_type": "code",
   "execution_count": null,
   "id": "90bed74a-05cd-471d-acf6-a76cb1e4d57c",
   "metadata": {},
   "outputs": [],
   "source": []
  },
  {
   "cell_type": "code",
   "execution_count": null,
   "id": "bde071db-f43c-4a7d-929e-a9d904effdc5",
   "metadata": {},
   "outputs": [],
   "source": []
  }
 ],
 "metadata": {
  "kernelspec": {
   "display_name": "Python 3 (ipykernel)",
   "language": "python",
   "name": "python3"
  },
  "language_info": {
   "codemirror_mode": {
    "name": "ipython",
    "version": 3
   },
   "file_extension": ".py",
   "mimetype": "text/x-python",
   "name": "python",
   "nbconvert_exporter": "python",
   "pygments_lexer": "ipython3",
   "version": "3.10.16"
  }
 },
 "nbformat": 4,
 "nbformat_minor": 5
}
